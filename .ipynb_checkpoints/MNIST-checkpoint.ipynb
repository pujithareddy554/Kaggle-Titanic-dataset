{
 "cells": [
  {
   "cell_type": "code",
   "execution_count": 1,
   "metadata": {},
   "outputs": [],
   "source": [
    "import numpy as np\n",
    "import pandas as pd\n",
    "import matplotlib.pyplot as plt\n"
   ]
  },
  {
   "cell_type": "code",
   "execution_count": 2,
   "metadata": {},
   "outputs": [],
   "source": [
    "\n",
    "class KNN:\n",
    "    def __init__(self, k=5, dist='eucledian'):\n",
    "        self.k = k\n",
    "    \n",
    "    def sim_eucledian(self, x1, x2):\n",
    "        return np.sqrt(((x1-x2)**2).sum(axis=1))\n",
    "    \n",
    "    def fit(self, x_train, y_train):\n",
    "        self.xtr = x_train\n",
    "        self.ytr = y_train\n",
    "    \n",
    "    def predict(self, x_test):\n",
    "        preds = []\n",
    "        for ix in range(x_test.shape[0]):\n",
    "            dist = self.sim_eucledian(self.xtr, x_test[ix])\n",
    "            dist = np.array([[dist[i], self.ytr[i]] for i in range(dist.shape[0])])\n",
    "            k_neighbours = np.array(sorted(dist, key=lambda x:x[0])[:self.k])\n",
    "            labels = k_neighbours[:, -1]\n",
    "            freq = np.unique(labels, return_counts=True)\n",
    "            preds.append(freq[0][freq[1].argmax()])\n",
    "        return np.array(preds)\n",
    "    \n",
    "    def accuracy(self, x_test, y_true):\n",
    "        preds = self.predict(x_test)\n",
    "        y_true = np.array(y_true)\n",
    "        accuracy = ((preds == y_true).sum()) / y_true.shape[0]\n",
    "        return accuracy\n"
   ]
  },
  {
   "cell_type": "code",
   "execution_count": 3,
   "metadata": {},
   "outputs": [
    {
     "name": "stderr",
     "output_type": "stream",
     "text": [
      "C:\\Users\\pujit\\Anaconda3\\lib\\site-packages\\ipykernel_launcher.py:7: RuntimeWarning: covariance is not symmetric positive-semidefinite.\n",
      "  import sys\n",
      "C:\\Users\\pujit\\Anaconda3\\lib\\site-packages\\ipykernel_launcher.py:8: RuntimeWarning: covariance is not symmetric positive-semidefinite.\n",
      "  \n"
     ]
    }
   ],
   "source": [
    "mean_01 = np.array([1,1])\n",
    "cov_01 = np.array([[5.9, 2.4], [2.7, 1.5]])\n",
    "\n",
    "mean_02 = np.array([4, 5])\n",
    "cov_02 = np.array([[2, -0.1], [0.1, 1.5]])\n",
    "\n",
    "data_01 = np.random.multivariate_normal(mean_01, cov_01, 500)\n",
    "data_02 = np.random.multivariate_normal(mean_02, cov_02, 500)\n",
    "\n",
    "all_data = np.zeros((1000, 3))\n",
    "\n",
    "all_data[:500, :2] = data_01\n",
    "all_data[500:, :2] = data_02\n",
    "\n",
    "all_data[500:, -1] = 1\n",
    "\n",
    "np.random.shuffle(all_data)\n",
    "\n",
    "split = int(0.8 * all_data.shape[0])\n",
    "train = all_data[:split]\n",
    "test = all_data[split:]\n",
    "\n",
    "features_train, labels_train = train[:, :2], train[:, -1]\n",
    "features_test, labels_test = test[:, :2], test[:, -1]\n",
    "\n",
    "knn = KNN()\n",
    "knn.fit(features_train, labels_train)\n",
    "preds = knn.predict(features_test)\n",
    "acc = knn.accuracy(features_test, labels_test)"
   ]
  },
  {
   "cell_type": "code",
   "execution_count": 4,
   "metadata": {},
   "outputs": [
    {
     "data": {
      "text/plain": [
       "array([1., 0., 0., 1., 0., 1., 1., 1., 1., 1., 1., 0., 0., 0., 0., 1., 0.,\n",
       "       0., 0., 0., 0., 0., 1., 1., 1., 1., 1., 1., 1., 1., 1., 1., 1., 0.,\n",
       "       0., 1., 0., 1., 0., 0., 1., 0., 1., 1., 1., 1., 1., 0., 1., 0., 1.,\n",
       "       1., 0., 0., 1., 1., 0., 1., 0., 1., 0., 1., 0., 0., 1., 1., 0., 0.,\n",
       "       1., 1., 1., 1., 0., 1., 1., 0., 0., 1., 0., 0., 0., 0., 1., 0., 0.,\n",
       "       1., 0., 1., 0., 1., 0., 1., 0., 1., 1., 1., 1., 0., 0., 1., 0., 0.,\n",
       "       0., 1., 0., 1., 0., 1., 0., 1., 0., 1., 0., 0., 0., 1., 1., 0., 0.,\n",
       "       0., 1., 1., 0., 1., 0., 1., 1., 0., 1., 0., 0., 1., 0., 1., 0., 1.,\n",
       "       0., 1., 0., 1., 1., 0., 1., 0., 0., 0., 0., 0., 0., 1., 1., 0., 0.,\n",
       "       0., 1., 1., 1., 1., 0., 0., 1., 1., 0., 1., 1., 0., 1., 1., 0., 1.,\n",
       "       1., 0., 0., 1., 1., 1., 0., 1., 0., 1., 1., 1., 1., 0., 0., 0., 0.,\n",
       "       0., 0., 0., 0., 0., 0., 0., 1., 0., 1., 0., 1., 0.])"
      ]
     },
     "execution_count": 4,
     "metadata": {},
     "output_type": "execute_result"
    }
   ],
   "source": [
    "preds"
   ]
  },
  {
   "cell_type": "code",
   "execution_count": 5,
   "metadata": {},
   "outputs": [
    {
     "data": {
      "text/plain": [
       "0.975"
      ]
     },
     "execution_count": 5,
     "metadata": {},
     "output_type": "execute_result"
    }
   ],
   "source": [
    "acc"
   ]
  },
  {
   "cell_type": "code",
   "execution_count": 6,
   "metadata": {},
   "outputs": [
    {
     "data": {
      "text/plain": [
       "array([ True,  True,  True,  True,  True,  True,  True,  True,  True,\n",
       "        True,  True,  True,  True,  True,  True,  True,  True,  True,\n",
       "        True,  True,  True,  True,  True,  True,  True,  True, False,\n",
       "        True,  True,  True,  True,  True,  True,  True,  True,  True,\n",
       "        True,  True,  True,  True,  True,  True,  True,  True,  True,\n",
       "        True,  True,  True,  True,  True,  True,  True,  True,  True,\n",
       "        True,  True,  True,  True,  True,  True,  True,  True,  True,\n",
       "        True,  True,  True,  True,  True,  True,  True,  True,  True,\n",
       "        True,  True,  True,  True,  True,  True,  True,  True,  True,\n",
       "        True,  True,  True,  True,  True,  True,  True,  True,  True,\n",
       "        True,  True,  True,  True,  True,  True,  True,  True,  True,\n",
       "        True,  True,  True,  True,  True,  True,  True,  True,  True,\n",
       "        True,  True,  True,  True,  True,  True,  True,  True, False,\n",
       "        True,  True,  True,  True,  True,  True,  True,  True,  True,\n",
       "        True,  True,  True,  True,  True,  True,  True,  True,  True,\n",
       "        True,  True,  True,  True,  True,  True,  True,  True,  True,\n",
       "        True,  True,  True,  True,  True,  True,  True,  True,  True,\n",
       "        True,  True,  True,  True,  True,  True,  True,  True,  True,\n",
       "        True,  True,  True,  True,  True,  True,  True,  True,  True,\n",
       "        True,  True,  True,  True,  True,  True,  True,  True,  True,\n",
       "        True,  True,  True,  True,  True,  True,  True,  True,  True,\n",
       "        True, False, False, False,  True,  True,  True,  True,  True,\n",
       "        True,  True])"
      ]
     },
     "execution_count": 6,
     "metadata": {},
     "output_type": "execute_result"
    }
   ],
   "source": [
    "labels_test==preds"
   ]
  },
  {
   "cell_type": "code",
   "execution_count": 7,
   "metadata": {},
   "outputs": [],
   "source": [
    "def extract_data(file, train_data=True):\n",
    "    df = pd.read_csv(file, index_col=False)\n",
    "    if train_data:\n",
    "        labels_train = df['label'].as_matrix()\n",
    "        features_train = df.as_matrix()[:, 1:]\n",
    "        return features_train, labels_train\n",
    "    else:\n",
    "        features_test = df.as_matrix()\n",
    "        return features_test"
   ]
  },
  {
   "cell_type": "code",
   "execution_count": 8,
   "metadata": {},
   "outputs": [
    {
     "name": "stderr",
     "output_type": "stream",
     "text": [
      "C:\\Users\\pujit\\Anaconda3\\lib\\site-packages\\ipykernel_launcher.py:4: FutureWarning: Method .as_matrix will be removed in a future version. Use .values instead.\n",
      "  after removing the cwd from sys.path.\n",
      "C:\\Users\\pujit\\Anaconda3\\lib\\site-packages\\ipykernel_launcher.py:5: FutureWarning: Method .as_matrix will be removed in a future version. Use .values instead.\n",
      "  \"\"\"\n",
      "C:\\Users\\pujit\\Anaconda3\\lib\\site-packages\\ipykernel_launcher.py:8: FutureWarning: Method .as_matrix will be removed in a future version. Use .values instead.\n",
      "  \n"
     ]
    }
   ],
   "source": [
    "features_train, labels_train = extract_data('train_mnist.csv')\n",
    "features_test = extract_data('test_mnist.csv', train_data=False)"
   ]
  },
  {
   "cell_type": "code",
   "execution_count": 9,
   "metadata": {},
   "outputs": [
    {
     "data": {
      "image/png": "[encoded data removed]",
      "text/plain": [
       "<Figure size 432x288 with 1 Axes>"
      ]
     },
     "metadata": {
      "needs_background": "light"
     },
     "output_type": "display_data"
    }
   ],
   "source": [
    "plt.figure(0)\n",
    "# matplotlib assumes that images are RGB so use cmap='gray'\n",
    "# to remove interpolation use interpolation=None\n",
    "plt.imshow(features_train[5, :].reshape(28,28), cmap='gray', interpolation=None)\n",
    "plt.show()"
   ]
  },
  {
   "cell_type": "code",
   "execution_count": 11,
   "metadata": {},
   "outputs": [],
   "source": [
    "knn = KNN(k=7)\n",
    "knn.fit(features_train, labels_train)"
   ]
  },
  {
   "cell_type": "code",
   "execution_count": null,
   "metadata": {},
   "outputs": [],
   "source": [
    "preds = knn.predict(features_test)"
   ]
  },
  {
   "cell_type": "code",
   "execution_count": null,
   "metadata": {},
   "outputs": [],
   "source": [
    " result_dict = {\n",
    "    \"ImageId\": [i for i in range(1, len(preds)+1)],\n",
    "    \"label\": preds.astype(int)\n",
    "}\n",
    "result_df = pd.DataFrame(result_dict, )\n",
    "result_df.to_csv(\"result.csv\", index=False)"
   ]
  }
 ],
 "metadata": {
  "kernelspec": {
   "display_name": "Python 3",
   "language": "python",
   "name": "python3"
  },
  "language_info": {
   "codemirror_mode": {
    "name": "ipython",
    "version": 3
   },
   "file_extension": ".py",
   "mimetype": "text/x-python",
   "name": "python",
   "nbconvert_exporter": "python",
   "pygments_lexer": "ipython3",
   "version": "3.7.0"
  }
 },
 "nbformat": 4,
 "nbformat_minor": 2
}
